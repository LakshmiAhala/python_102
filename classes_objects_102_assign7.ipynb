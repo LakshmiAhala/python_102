{
  "nbformat": 4,
  "nbformat_minor": 0,
  "metadata": {
    "colab": {
      "provenance": [],
      "include_colab_link": true
    },
    "kernelspec": {
      "name": "python3",
      "display_name": "Python 3"
    },
    "language_info": {
      "name": "python"
    }
  },
  "cells": [
    {
      "cell_type": "markdown",
      "metadata": {
        "id": "view-in-github",
        "colab_type": "text"
      },
      "source": [
        "<a href=\"https://colab.research.google.com/github/LakshmiAhala/python_102/blob/main/classes_objects_102_assign7.ipynb\" target=\"_parent\"><img src=\"https://colab.research.google.com/assets/colab-badge.svg\" alt=\"Open In Colab\"/></a>"
      ]
    },
    {
      "cell_type": "code",
      "source": [
        "#@title Assignment 7\n",
        "\n",
        "print('------------ ASSIGNMENT 5 ------------')\n",
        "class Restaurant:\n",
        "\n",
        "  def __init__(self, a_name, a_cuisine, a_rating):\n",
        "    self.name = a_name\n",
        "    self.cuisine = a_cuisine\n",
        "    self.rating = a_rating\n",
        "\n",
        "\n",
        "  ''' this is for programmers; or other python code snippets '''\n",
        "  def __repr__(self):\n",
        "    # Restaurant (name: ___, cusine: ___, rating: ___)\n",
        "    temp_str = f'Student (name:{self.name}, cuisine:{self.cuisine}, rating:{self.rating})'\n",
        "    return temp_str\n",
        "\n",
        "  ''' this is for the end-users, user-friendly output '''\n",
        "  def __str__(self):\n",
        "    temp_str = ('\\nName: ' + self.name +\n",
        "               '\\nCuisine: ' + self.cuisine +\n",
        "               '\\nRating: ' + str(self.rating))\n",
        "    return temp_str\n",
        "################################################################################\n",
        "\n",
        "  def __lt__(self, object2):\n",
        "    return self.rating < object2.rating\n",
        "\n",
        "  def __gt__(self, object2):\n",
        "    return self.rating > object2.rating\n",
        "\n",
        "  def __le__(self, object2):\n",
        "    return self.rating <= object2.rating\n",
        "\n",
        "  def __ge__(self, object2):\n",
        "    return self.rating >= object2.rating\n",
        "\n",
        "  def __eq__(self, object2):\n",
        "    return self.rating == object2.rating\n",
        "\n",
        "  def __ne__(self, object2):\n",
        "    return self.rating != object2.rating\n",
        "\n",
        "  def __len__(self):\n",
        "    return 3\n",
        "\n",
        "  def __getitem__(self, key):\n",
        "    ''' Defines how an object is accessed using square brackets (e.g., obj[key]). This method is used for indexing. '''\n",
        "    if key == 'name':\n",
        "      return self.name\n",
        "    elif key == 'cuisine':\n",
        "      return self.cuisine\n",
        "    elif key == 'rating':\n",
        "      return self.rating\n",
        "\n",
        "# Create some instances\n",
        "res_1 = Restaurant('Van Lavino', 'Italian', 4.3)\n",
        "print('\\n\\nRepresentation: ', repr(res_1))\n",
        "print('------------')\n",
        "print('String representation: ', res_1)\n",
        "\n",
        "res_2 = Restaurant('Mandi', 'Arabian', 4.2)\n",
        "print('\\n\\nRepresentation: ', repr(res_2))\n",
        "print('------------')\n",
        "print('String representation: ', res_2)\n",
        "print()\n",
        "print('------------ ASSIGNMENT 6 ------------')\n",
        "print()\n",
        "\n",
        "a = Restaurant('Van Lavino', 'Italian', 4.3)\n",
        "b = Restaurant('Mandi', 'Arabian', 4.2)\n",
        "\n",
        "print(\n",
        "    a < b,\n",
        "    a > b,\n",
        "    a <= b,\n",
        "    a >= b,\n",
        "    a == b,\n",
        "    a != b\n",
        ")\n",
        "\n",
        "print(\"length of the restaurant  (= number of attributes): \", len(res_1))\n",
        "\n",
        "print('restaurant rating using dot notation: ', res_1.name)\n",
        "print('restaurant rating using subscript[] notation: ', res_1['name'])\n",
        "print('restaurant rating using subscript[] notation: ', res_1['rating'])"
      ],
      "metadata": {
        "colab": {
          "base_uri": "https://localhost:8080/"
        },
        "id": "sMDjtJgximaF",
        "outputId": "eeab948b-30e1-4a55-aee2-930864b006ec"
      },
      "execution_count": null,
      "outputs": [
        {
          "output_type": "stream",
          "name": "stdout",
          "text": [
            "------------ ASSIGNMENT 5 ------------\n",
            "\n",
            "\n",
            "Representation:  Student (name:Van Lavino, cuisine:Italian, rating:4.3)\n",
            "------------\n",
            "String representation:  \n",
            "Name: Van Lavino\n",
            "Cuisine: Italian\n",
            "Rating: 4.3\n",
            "\n",
            "\n",
            "Representation:  Student (name:Mandi, cuisine:Arabian, rating:4.2)\n",
            "------------\n",
            "String representation:  \n",
            "Name: Mandi\n",
            "Cuisine: Arabian\n",
            "Rating: 4.2\n",
            "\n",
            "------------ ASSIGNMENT 6 ------------\n",
            "\n",
            "False True False True False True\n",
            "length of the restaurant  (= number of attributes):  3\n",
            "restaurant rating using dot notation:  Van Lavino\n",
            "restaurant rating using subscript[] notation:  Van Lavino\n",
            "restaurant rating using subscript[] notation:  4.3\n"
          ]
        }
      ]
    }
  ]
}