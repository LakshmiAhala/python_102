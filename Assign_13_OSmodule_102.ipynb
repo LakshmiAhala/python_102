{
  "nbformat": 4,
  "nbformat_minor": 0,
  "metadata": {
    "colab": {
      "provenance": [],
      "authorship_tag": "ABX9TyN4aYToPTqY2RCg2Swo594r",
      "include_colab_link": true
    },
    "kernelspec": {
      "name": "python3",
      "display_name": "Python 3"
    },
    "language_info": {
      "name": "python"
    }
  },
  "cells": [
    {
      "cell_type": "markdown",
      "metadata": {
        "id": "view-in-github",
        "colab_type": "text"
      },
      "source": [
        "<a href=\"https://colab.research.google.com/github/LakshmiAhala/python_102/blob/main/Assign_13_OSmodule_102.ipynb\" target=\"_parent\"><img src=\"https://colab.research.google.com/assets/colab-badge.svg\" alt=\"Open In Colab\"/></a>"
      ]
    },
    {
      "cell_type": "code",
      "source": [
        "import os\n",
        "\n",
        "\n",
        "def main():\n",
        "    # Declaring the variable - dir_path\n",
        "    dir_path = 'C:/Users/ugant/OneDrive/Desktop/Python102'\n",
        "\n",
        "    # Initialize counters\n",
        "    # Changed file to num_files to avoid confusion with the 'files' in the for loop\n",
        "    size = 0\n",
        "    num_files = 0\n",
        "    folders = 0\n",
        "\n",
        "    # Initializing the root, directories, files\n",
        "    for root, dirs, files in os.walk(dir_path):\n",
        "        num_files += len(files)\n",
        "        folders += len(dirs)\n",
        "\n",
        "        for f in files:\n",
        "            fp = os.path.join(root, f)\n",
        "            size += os.path.getsize(fp)\n",
        "\n",
        "    print('Total number of files (including those in subdirectories): ', num_files)\n",
        "    print()\n",
        "    print('Total number of folders (including those in subdirectories): ', folders)\n",
        "    print()\n",
        "    print(\"Folder size: \" + str(size), 'bytes')\n",
        "\n",
        "\n",
        "if __name__ == \"__main__\":\n",
        "    main()"
      ],
      "metadata": {
        "id": "Z2e3h9YRY6Ar"
      },
      "execution_count": null,
      "outputs": []
    }
  ]
}