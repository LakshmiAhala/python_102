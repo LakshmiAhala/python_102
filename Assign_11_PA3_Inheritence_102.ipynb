{
  "nbformat": 4,
  "nbformat_minor": 0,
  "metadata": {
    "colab": {
      "provenance": [],
      "include_colab_link": true
    },
    "kernelspec": {
      "name": "python3",
      "display_name": "Python 3"
    },
    "language_info": {
      "name": "python"
    }
  },
  "cells": [
    {
      "cell_type": "markdown",
      "metadata": {
        "id": "view-in-github",
        "colab_type": "text"
      },
      "source": [
        "<a href=\"https://colab.research.google.com/github/LakshmiAhala/python_102/blob/main/Assign_11_PA3_Inheritence_102.ipynb\" target=\"_parent\"><img src=\"https://colab.research.google.com/assets/colab-badge.svg\" alt=\"Open In Colab\"/></a>"
      ]
    },
    {
      "cell_type": "markdown",
      "source": [
        "###3. Person and Customer Classes\n",
        "\n",
        "Write a class named Person with data attributes for a person’s name, address, and telephone number. Next, write a class named Customer that is a subclass of the Person class.\n",
        "The Customer class should have a data attribute for a customer number, and a Boolean\n",
        "data attribute indicating whether the customer wishes to be on a mailing list. Demonstrate\n",
        "an instance of the Customer class in a simple program."
      ],
      "metadata": {
        "id": "Li_dGKAYjd9H"
      }
    },
    {
      "cell_type": "markdown",
      "source": [
        "### Person : name, address, telephone number\n",
        "\n",
        "   ### customer : customer number, wishes to be on a mailing list (bool)"
      ],
      "metadata": {
        "id": "LFi7c5cBkLnW"
      }
    },
    {
      "cell_type": "code",
      "source": [
        "#@title 1.Person and Customer classes\n",
        "\n",
        "\n",
        "# __init__ for the parent class - Person\n",
        "class Person:\n",
        "  def __init__(self, per_name, per_adr, per_tel_num):\n",
        "    self.__per_name = per_name\n",
        "    self.__per_adr = per_adr\n",
        "    self.__per_tel_num = per_tel_num\n",
        "\n",
        "# get and set functions\n",
        "  def get_per_name(self):\n",
        "    return self.__per_name\n",
        "\n",
        "  def get_per_adr(self):\n",
        "    return self.__per_adr\n",
        "\n",
        "  def get_per_tel_num(self):\n",
        "    return self.__per_tel_num\n",
        "\n",
        "  def set_per_name(self):\n",
        "    self.__per_name\n",
        "\n",
        "  def set_per_adr(self):\n",
        "    self.__per_adr\n",
        "\n",
        "  def set_per_tel_num(self):\n",
        "    self.__per_tel_num\n",
        "\n",
        "# __repr__ and __str__\n",
        "  def __repr__(self):\n",
        "    per_str = ('\\nClass: Person' + '\\nName: ' + self.__per_name +\n",
        "                      '\\nPerson Address: ' + str(self.__per_adr) +\n",
        "                      '\\nTelephone Number: ' + str(self.__per_tel_num))\n",
        "    return per_str\n",
        "\n",
        "  def __str__(self):\n",
        "    per_str = ('\\nClass: Person' + '\\nName: ' + self.__per_name +\n",
        "                      '\\nAddress: ' + str(self.__per_adr) +\n",
        "                      '\\nTelephone Number: ' + str(self.__per_tel_num))\n",
        "    return per_str\n",
        "\n",
        "\n",
        "# __init__ for the child class - Customer\n",
        "class Customer(Person):\n",
        "  def __init__(self, per_name, per_adr, per_tel_num, cus_num, cus_wish_mail_list):\n",
        "      super().__init__(per_name, per_adr, per_tel_num)\n",
        "      self.__cus_num = cus_num\n",
        "      self.__cus_wish_mail_list = cus_wish_mail_list\n",
        "\n",
        "# get and set functions\n",
        "  def get_cus_num(self):\n",
        "    return self.__cus_num\n",
        "\n",
        "  def get_cus_wish_mail_list(self):\n",
        "    return self.__cus_wish_mail_list\n",
        "\n",
        "  def set_cus_num(self):\n",
        "    return self.__cus_num\n",
        "\n",
        "  def set_cus_wish_mail_list(self):\n",
        "    return self.__cus_wish_mail_list\n",
        "\n",
        "# __repr__\n",
        "  def __repr__(self):\n",
        "    cus_str = ('\\nClass: Customer' + '\\nName: ' + self.__per_name + '\\nAddress: ' + str(self.__per_adr) +  '\\nTelephone Number: ' + str(self.__per_tel_num) +\n",
        "               '\\nCustomer Number: ' + str(self.__cus_num) + '\\nDoes the customer wish to be on the mailing list?: ' + str(self.__cus_wish_mail_list))\n",
        "    return cus_str\n",
        "\n",
        "\n",
        "# Creating instances for the Person class\n",
        "per1 = Person('Harmanpreet', '1103, Raheja Centre, Nariman Point, Mumbai', 8319480284)\n",
        "per2 = Person('Rohit', '673, Madhavrai Gully, Mulji Jetha Market, Kalbadevim, Mumbai', 3739274893)\n",
        "\n",
        "# Creating instances for the Customer class\n",
        "cus1 = Customer('Smriti', '2, Athalye Compd, V S Marg, Opp G M Brewaries, Virar, Mumbai', 72502528221, 83546, True)\n",
        "cus2 = Customer('Virat', 'Grf, 158, Lohar Chawl, Kanji Gokuldas Bldg, Kalbadevi, Mumbai', 42222063856, 38374, False)\n",
        "\n",
        "# Calling the instances for the Person class\n",
        "print('PEOPLE')\n",
        "print(per1)\n",
        "print(per2)\n",
        "print()\n",
        "print('----------------------------')\n",
        "\n",
        "# Calling the instances for the Customer class\n",
        "print()\n",
        "print('CUSTOMERS')\n",
        "print(cus1)\n",
        "print(cus2)"
      ],
      "metadata": {
        "id": "v-rIdTLn-RQQ",
        "colab": {
          "base_uri": "https://localhost:8080/"
        },
        "outputId": "17d6d635-6523-435c-a872-576f182fba61"
      },
      "execution_count": 2,
      "outputs": [
        {
          "output_type": "stream",
          "name": "stdout",
          "text": [
            "PEOPLE\n",
            "\n",
            "Class: Person\n",
            "Name: Harmanpreet\n",
            "Address: 1103, Raheja Centre, Nariman Point, Mumbai\n",
            "Telephone Number: 8319480284\n",
            "\n",
            "Class: Person\n",
            "Name: Rohit\n",
            "Address: 673, Madhavrai Gully, Mulji Jetha Market, Kalbadevim, Mumbai\n",
            "Telephone Number: 3739274893\n",
            "\n",
            "----------------------------\n",
            "\n",
            "CUSTOMERS\n",
            "\n",
            "Class: Person\n",
            "Name: Smriti\n",
            "Address: 2, Athalye Compd, V S Marg, Opp G M Brewaries, Virar, Mumbai\n",
            "Telephone Number: 72502528221\n",
            "\n",
            "Class: Person\n",
            "Name: Virat\n",
            "Address: Grf, 158, Lohar Chawl, Kanji Gokuldas Bldg, Kalbadevi, Mumbai\n",
            "Telephone Number: 42222063856\n"
          ]
        }
      ]
    }
  ]
}