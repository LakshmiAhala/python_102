{
  "nbformat": 4,
  "nbformat_minor": 0,
  "metadata": {
    "colab": {
      "provenance": [],
      "authorship_tag": "ABX9TyOyqmUkKyv9ziyjFaTDoMPu",
      "include_colab_link": true
    },
    "kernelspec": {
      "name": "python3",
      "display_name": "Python 3"
    },
    "language_info": {
      "name": "python"
    }
  },
  "cells": [
    {
      "cell_type": "markdown",
      "metadata": {
        "id": "view-in-github",
        "colab_type": "text"
      },
      "source": [
        "<a href=\"https://colab.research.google.com/github/LakshmiAhala/python_102/blob/main/assign9_classes_objects.ipynb\" target=\"_parent\"><img src=\"https://colab.research.google.com/assets/colab-badge.svg\" alt=\"Open In Colab\"/></a>"
      ]
    },
    {
      "cell_type": "code",
      "source": [
        "#@title Student Class with Encapsulation (and with Setters and Getters)\n",
        "# DUNDER = Private\n",
        "# No DUNDER = Puplic\n",
        "class Pet:\n",
        "    def __init__(self, name, animal_type, age):\n",
        "      self.__name = name\n",
        "      self.__animal_type = animal_type\n",
        "      self.__age = age\n",
        "\n",
        "    def set_name(self):\n",
        "      return self.__name\n",
        "\n",
        "    def set_animal_type(self):\n",
        "      return self.__animal_type\n",
        "\n",
        "    def set_age(self):\n",
        "      return self.__age\n",
        "\n",
        "    def get_name(self):\n",
        "      return self.__name\n",
        "\n",
        "    def get_animal_type(self):\n",
        "      return self.__animal_type\n",
        "\n",
        "    def get_age(self):\n",
        "      return self.__age\n",
        "\n",
        "    def __repr__(self):\n",
        "        return \"Name of Pet: \" + self.__name + \"Animal Type: \" + self.__animal_type\n",
        "\n",
        "    def __str__(self):\n",
        "        return \"Name of Pet: \" + self.__name + \", \" + \"Animal Type: \" + self.__animal_type + \", \"  + \"Age of pet: \" + self.__age\n",
        "\n",
        "\n",
        "# Create an instance\n",
        "pet_1 = Pet('Sandy', 'Dog', '5')\n",
        "pet_2 = Pet('Chirp', 'Parrot', '9')\n",
        "pet_3 = Pet('Bessie', 'Cow', '12')\n",
        "\n",
        "# I decide what to tell you by selectively revealing the data through __str__ method\n",
        "print(pet_1)\n",
        "print(pet_2)\n",
        "print(pet_3)\n",
        "\n",
        "# print(student_1.__first_name)  # What is your first name?\n",
        "# print(pet_1.get_name)\n"
      ],
      "metadata": {
        "colab": {
          "base_uri": "https://localhost:8080/"
        },
        "id": "z8u__8A5Zh59",
        "outputId": "1ba29132-9a20-477d-98f8-096fc9f23114"
      },
      "execution_count": 3,
      "outputs": [
        {
          "output_type": "stream",
          "name": "stdout",
          "text": [
            "Name of Pet: Sandy, Animal Type: Dog, Age of pet: 5\n",
            "Name of Pet: Chirp, Animal Type: Parrot, Age of pet: 9\n",
            "Name of Pet: Bessie, Animal Type: Cow, Age of pet: 12\n"
          ]
        }
      ]
    },
    {
      "cell_type": "markdown",
      "source": [
        "1. Pet Class\n",
        "Write a class named Pet, which should have the following data attributes:\n",
        "\n",
        "• _ _name (for the name of a pet)\n",
        "\n",
        "• _ _animal_type\n",
        "\n",
        "(for the type of animal that a pet is. Example values are ‘Dog’, ‘Cat’,\n",
        "and ‘Bird’)\n",
        "\n",
        "• _ _age (for the pet’s age)\n",
        "\n",
        "The Pet class should have an _ _init_ _ method that creates these attributes. It should also\n",
        "have the following methods:\n",
        "\n",
        "• set_name\n",
        "\n",
        "This method assigns a value to the _ _name field.\n",
        "\n",
        "• set_animal_type\n",
        "\n",
        "This method assigns a value to the _ _animal_type field.\n",
        "\n",
        "• set_age\n",
        "\n",
        "This method assigns a value to the _ _age field.\n",
        "\n",
        "• get_name\n",
        "\n",
        "This method returns the value of the _ _ name field.\n",
        "\n",
        "• get_animal_type\n",
        "\n",
        "This method returns the value of the _ _animal_type field.\n",
        "\n",
        "• get_age\n",
        "\n",
        "This method returns the value of the _ _age field.\n",
        "\n",
        "\n",
        "Once you have written the class, write a program that creates an object of the class and prompts the user to enter the name, type, and age of his or her pet. This data should be stored as the object's attributes. Use the object's accessor methods to retrieve the pet's name, type, and age and display this data on the screen."
      ],
      "metadata": {
        "id": "alvdh2Ge-xPl"
      }
    }
  ]
}