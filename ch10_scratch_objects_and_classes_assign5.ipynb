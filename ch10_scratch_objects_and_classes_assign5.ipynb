{
  "nbformat": 4,
  "nbformat_minor": 0,
  "metadata": {
    "colab": {
      "provenance": [],
      "include_colab_link": true
    },
    "kernelspec": {
      "name": "python3",
      "display_name": "Python 3"
    },
    "language_info": {
      "name": "python"
    }
  },
  "cells": [
    {
      "cell_type": "markdown",
      "metadata": {
        "id": "view-in-github",
        "colab_type": "text"
      },
      "source": [
        "<a href=\"https://colab.research.google.com/github/LakshmiAhala/python_102/blob/main/ch10_scratch_objects_and_classes_assign5.ipynb\" target=\"_parent\"><img src=\"https://colab.research.google.com/assets/colab-badge.svg\" alt=\"Open In Colab\"/></a>"
      ]
    },
    {
      "cell_type": "markdown",
      "source": [
        "#Chapter 10. Objects and Classes\n",
        "## Siva.Jasthi@metrostate.edu\n",
        "### Python 102"
      ],
      "metadata": {
        "id": "xg63C9rrYT9f"
      }
    },
    {
      "cell_type": "markdown",
      "source": [
        "# Introduction to Objects and Classes"
      ],
      "metadata": {
        "id": "x56RTNIgfbC8"
      }
    },
    {
      "cell_type": "markdown",
      "source": [
        "# Coding Conventions\n",
        "1. Class names start with upper case\n",
        "2. Every class must have __str__ and __init__ methods\n",
        "These are called magic methods (Double Underscore methods) (DUNDER methods)\n",
        "Because these are called by PYTHON behind the scenes.\n"
      ],
      "metadata": {
        "id": "cDnSVywVjmR4"
      }
    },
    {
      "cell_type": "markdown",
      "source": [
        "# How does python think during print()\n",
        "\n",
        "1. Does the object have __str__( ) method?\n",
        "Let me use it\n",
        "\n",
        "2. If not, does the object have __repr__( ) method?\n",
        "Let me use it\n",
        "\n",
        "3. If not, does the parent of the object have __str__() method?\n",
        "Let me use it\n",
        "\n",
        "4. If not, does the parent of the object have __repr__() method?\n",
        "Let me use it"
      ],
      "metadata": {
        "id": "c0HSapHIr4tI"
      }
    },
    {
      "cell_type": "code",
      "source": [
        "\n",
        "#@title Defining a class (Version 1 - Do not use)\n",
        "\n",
        "# # Student (name, age, email)\n",
        "\n",
        "# # Created a class\n",
        "\n",
        "# class Student:\n",
        "\n",
        "#   def __init__(self, a_name, a_age, a_email):\n",
        "#     self.name = a_name\n",
        "#     self.age = a_age\n",
        "#     self.email = a_email\n",
        "\n",
        "#   ''' this is for programmers; or other python code snippets '''\n",
        "#   def __rep__(self):\n",
        "#     #Student (name: ___, age: __, email: ___)\n",
        "#     temp_str = f'Student (name:{self.name}, age:{self.age}, email:self.email)'\n",
        "#     return temp_str\n",
        "\n",
        "#   ''' this is for the end-users, user-friendly output '''\n",
        "#   def __str__(self):\n",
        "#     temp_str = ('\\n\\nHere are the student details' +\n",
        "#                 '\\nName: ' + self.name +\n",
        "#                '\\nAge: ' + str(self.age) +\n",
        "#                '\\nEmail: ' + self.email)\n",
        "#     return temp_str\n",
        "\n",
        "\n",
        "# # Create some instance\n",
        "\n",
        "# # when you create an instance, \"self here becomes student_1\"\n",
        "# student_1 = Student('Sumedh Ghatti', 15, 'sumedh.ghatti@gmail.com')\n",
        "\n",
        "# # How do I know the name of the student_1?\n",
        "# #print(\"Name: \", student_1.name)\n",
        "\n",
        "# # How do I know the email of the student_1?\n",
        "# #print(\"Email: \", student_1.email)\n",
        "# # How do I know the student_1 instance is created?\n",
        "# print(student_1)\n",
        "\n",
        "# # How do I make the output / dispaly useful?\n",
        "# student_2 = Student('Sai Chennupati', 17, 'Sai.chennupati@yahoo.com')\n",
        "# # print(\"Name: \", student_2.name)\n",
        "# # print(\"Email: \", student_2.email)\n",
        "\n",
        "# # Tell me about yourself; Or print all the vairables in user friendly format\n",
        "# print(student_2)\n",
        "\n",
        "\n",
        "# # create third instance\n",
        "# xyz = Student('Anika Khanna', 13, 'anika.khanna@gmail.com')\n",
        "# print(xyz)\n",
        "\n"
      ],
      "metadata": {
        "id": "Eu2vEw--aldQ",
        "colab": {
          "base_uri": "https://localhost:8080/"
        },
        "outputId": "e70a3bc6-63d9-4761-bdaa-2c736889f6b4"
      },
      "execution_count": null,
      "outputs": [
        {
          "output_type": "stream",
          "name": "stdout",
          "text": [
            "\n",
            "\n",
            "Here are the student details\n",
            "Name: Sumedh Ghatti\n",
            "Age: 15\n",
            "Email: sumedh.ghatti@gmail.com\n",
            "\n",
            "\n",
            "Here are the student details\n",
            "Name: Sai Chennupati\n",
            "Age: 17\n",
            "Email: Sai.chennupati@yahoo.com\n",
            "\n",
            "\n",
            "Here are the student details\n",
            "Name: Anika Khanna\n",
            "Age: 13\n",
            "Email: anika.khanna@gmail.com\n"
          ]
        }
      ]
    },
    {
      "cell_type": "code",
      "source": [
        "#@title Defining a class (Version 2)\n",
        "\n",
        "# Student (name, age, email)\n",
        "\n",
        "# Created a class\n",
        "\n",
        "class Student:\n",
        "\n",
        "  def __init__(self, a_name, a_age, a_email):\n",
        "    self.name = a_name\n",
        "    self.age = a_age\n",
        "    self.email = a_email\n",
        "\n",
        "\n",
        "  ''' this is for programmers; or other python code snippets '''\n",
        "  def __repr__(self):\n",
        "    #Student (name: ___, age: __, email: ___)\n",
        "    temp_str = f'Student (name:{self.name}, age:{self.age}, email:{self.email})'\n",
        "    return temp_str\n",
        "\n",
        "  ''' this is for the end-users, user-friendly output '''\n",
        "  def __str__(self):\n",
        "    temp_str = ('\\nName: ' + self.name +\n",
        "               '\\nAge: ' + str(self.age) +\n",
        "               '\\nEmail: ' + self.email)\n",
        "    return temp_str\n",
        "\n",
        "# Create some instances\n",
        "student_1 = Student('Sumedh Ghatti', 15, 'sumedh.ghatti@gmail.com')\n",
        "print('\\n\\nRepresentation: ', repr(student_1))\n",
        "print('String representation: ', student_1)\n",
        "\n",
        "student_2 = Student('Sai Chennupati', 17, 'Sai.chennupati@yahoo.com')\n",
        "print('\\n\\nRepresentation: ', repr(student_2))\n",
        "print('String representation: ', student_2)\n",
        "\n",
        "\n",
        "xyz = Student('Anika Khanna', 13, 'anika.khanna@gmail.com')\n",
        "print('\\n\\nRepresentation: ', repr(xyz))\n",
        "print('String representation: ', xyz)\n",
        "\n",
        "\n"
      ],
      "metadata": {
        "colab": {
          "base_uri": "https://localhost:8080/"
        },
        "id": "-3W3mVkSpYMC",
        "outputId": "9119c582-25a9-4f86-c17b-6cf7e5b4b4a2"
      },
      "execution_count": null,
      "outputs": [
        {
          "output_type": "stream",
          "name": "stdout",
          "text": [
            "\n",
            "\n",
            "Representation:  Student (name:Sumedh Ghatti, age:15, email:sumedh.ghatti@gmail.com)\n",
            "String representation:  \n",
            "Name: Sumedh Ghatti\n",
            "Age: 15\n",
            "Email: sumedh.ghatti@gmail.com\n",
            "\n",
            "\n",
            "Representation:  Student (name:Sai Chennupati, age:17, email:Sai.chennupati@yahoo.com)\n",
            "String representation:  \n",
            "Name: Sai Chennupati\n",
            "Age: 17\n",
            "Email: Sai.chennupati@yahoo.com\n",
            "\n",
            "\n",
            "Representation:  Student (name:Anika Khanna, age:13, email:anika.khanna@gmail.com)\n",
            "String representation:  \n",
            "Name: Anika Khanna\n",
            "Age: 13\n",
            "Email: anika.khanna@gmail.com\n"
          ]
        }
      ]
    },
    {
      "cell_type": "markdown",
      "source": [
        "# Assignment 5 Instructions\n",
        "1. Create a python class assigned to you.\n",
        "2. Ensure that each class has these two magic methods  __str__ and __repr_ methods.\n",
        "3. Create three objects (instances) for your class.\n",
        "4. print the object\n",
        "5. print the representation of the object\n",
        "6. Please make sure that you use \"Student\" class I demonstrated in the classroom as example  / template.\n",
        "\n",
        "\n",
        "1. Student  (done)\n",
        "name, email, age\n",
        "\n",
        "2. Car  (Anika)\n",
        "make, model, year\n",
        "\n",
        "3. Book  (Nidhi)\n",
        "title, author, publication_year\n",
        "\n",
        "4. Dog   (Nithin)\n",
        "name, breed, age\n",
        "\n",
        "5. Employee  (Prabhav)\n",
        "name, employee_id, salary\n",
        "\n",
        "6. Circle  (Rama)\n",
        "radius, color, area\n",
        "\n",
        "7. BankAccount  (Samhita)\n",
        "account_number, balance, owner\n",
        "\n",
        "8. Movie (Prashanti)\n",
        "title, director, release_year\n",
        "\n",
        "9. Song (Sai)\n",
        "title, artist, duration\n",
        "\n",
        "10. Address (Sumedh)\n",
        "street, city, postal_code\n",
        "\n",
        "11. Restaurant (Ahala)\n",
        "name, cuisine, rating\n",
        "\n",
        "12. Laptop (Krish)\n",
        "brand, model, price\n",
        "\n",
        "13. Course (Nakul)\n",
        "course_code, instructor, credits\n",
        "\n",
        "14. Country (Om)\n",
        "name, population, capital_city\n",
        "\n",
        "15. Smartphone (Pavani)\n",
        "brand, model, screen_size\n",
        "\n",
        "16. House (Satish)\n",
        "area, owner, cost\n",
        "\n",
        "Each class represents a real-world entity, and the attributes associated with each class provide information about that entity.\n"
      ],
      "metadata": {
        "id": "JYYyUb4MuPiI"
      }
    },
    {
      "cell_type": "code",
      "source": [
        "#@title  Assignment 5\n",
        "\n",
        "# Student (name, age, email)\n",
        "\n",
        "# Created a class\n",
        "\n",
        "class Restaurant:\n",
        "\n",
        "  def __init__(self, a_name, a_cuisine, a_rating):\n",
        "    self.name = a_name\n",
        "    self.cuisine = a_cuisine\n",
        "    self.rating = a_rating\n",
        "\n",
        "\n",
        "  ''' this is for programmers; or other python code snippets '''\n",
        "  def __repr__(self):\n",
        "    # Restaurant (name: ___, cusine: __, rating: ___)\n",
        "    temp_str = f'Student (name:{self.name}, cuisine:{self.cuisine}, rating:{self.rating})'\n",
        "    return temp_str\n",
        "\n",
        "  ''' this is for the end-users, user-friendly output '''\n",
        "  def __str__(self):\n",
        "    temp_str = ('\\nName: ' + self.name +\n",
        "               '\\nCuisine: ' + self.cuisine +\n",
        "               '\\nRating: ' + str(self.rating))\n",
        "    return temp_str\n",
        "\n",
        "# Create some instances\n",
        "restaurant_1 = Restaurant('Van Lavino', 'Italian', 4.3)\n",
        "print('\\n\\nRepresentation: ', repr(restaurant_1))\n",
        "print('String representation: ', restaurant_1)\n",
        "\n",
        "restaurant_2 = Restaurant('Mandi', 'Arabian', 4.2)\n",
        "print('\\n\\nRepresentation: ', repr(restaurant_2))\n",
        "print('String representation: ', restaurant_2)\n",
        "\n",
        "restaurant_3 = Restaurant('Telugu Medium Kitchen', 'Indian - Telugu', 4.1)\n",
        "print('\\n\\nRepresentation: ', repr(restaurant_3))\n",
        "print('String representation: ', restaurant_3)"
      ],
      "metadata": {
        "id": "7YwzphFHMr3q",
        "colab": {
          "base_uri": "https://localhost:8080/"
        },
        "outputId": "987afde9-6675-42c0-bb4a-27fba6d8208d"
      },
      "execution_count": null,
      "outputs": [
        {
          "output_type": "stream",
          "name": "stdout",
          "text": [
            "\n",
            "\n",
            "Representation:  Student (name:Van Lavino, cuisine:Italian, rating:4.3)\n",
            "String representation:  \n",
            "Name: Van Lavino\n",
            "Cuisine: Italian\n",
            "Rating: 4.3\n",
            "\n",
            "\n",
            "Representation:  Student (name:Mandi, cuisine:Arabian, rating:4.2)\n",
            "String representation:  \n",
            "Name: Mandi\n",
            "Cuisine: Arabian\n",
            "Rating: 4.2\n",
            "\n",
            "\n",
            "Representation:  Student (name:Telugu Medium Kitchen, cuisine:Indian - Telugu, rating:4.1)\n",
            "String representation:  \n",
            "Name: Telugu Medium Kitchen\n",
            "Cuisine: Indian - Telugu\n",
            "Rating: 4.1\n"
          ]
        }
      ]
    }
  ]
}