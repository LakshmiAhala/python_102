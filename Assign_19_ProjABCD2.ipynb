{
  "nbformat": 4,
  "nbformat_minor": 0,
  "metadata": {
    "colab": {
      "provenance": [],
      "authorship_tag": "ABX9TyNekdax+e0SK/smzvaQ9xJw",
      "include_colab_link": true
    },
    "kernelspec": {
      "name": "python3",
      "display_name": "Python 3"
    },
    "language_info": {
      "name": "python"
    }
  },
  "cells": [
    {
      "cell_type": "markdown",
      "metadata": {
        "id": "view-in-github",
        "colab_type": "text"
      },
      "source": [
        "<a href=\"https://colab.research.google.com/github/LakshmiAhala/python_102/blob/main/Assign_19_ProjABCD2.ipynb\" target=\"_parent\"><img src=\"https://colab.research.google.com/assets/colab-badge.svg\" alt=\"Open In Colab\"/></a>"
      ]
    },
    {
      "cell_type": "code",
      "execution_count": 1,
      "metadata": {
        "colab": {
          "base_uri": "https://localhost:8080/"
        },
        "id": "o8aXJQ029uxe",
        "outputId": "8cd2cfbf-9493-4fc0-bd2f-3cc9ed014ba0"
      },
      "outputs": [
        {
          "output_type": "stream",
          "name": "stdout",
          "text": [
            "Please give the number of words you would like to see: 10\n",
            "{'Indian': 91, 'journey': 54, 'first': 48, 'India': 44, 'known': 42, 'including': 38, 'Award': 30, 'made': 28, 'various': 28, 'Padma': 28}\n"
          ]
        }
      ],
      "source": [
        "# Importing the necessary libraries\n",
        "import requests\n",
        "import json\n",
        "\n",
        "abcd_id_list = [711, 733, 523, 542, 731, 763, 669, 739, 690, 742, 724, 112, 668, 714, 671, 32, 722, 434, 713, 751,\n",
        "                760, 102, 654, 695, 762, 470, 33, 432, 429, 265, 673, 111, 588, 734, 692, 477, 518, 720, 445, 437,\n",
        "                752, 206, 670, 544, 491, 737, 685, 492, 53, 676, 575, 469, 183, 717, 665, 715, 410, 425, 430, 586,\n",
        "                769, 235, 462, 741, 524, 718, 758, 465, 745, 520, 431, 721, 171, 484, 759, 672, 433, 749, 502, 756,\n",
        "                747, 757, 26, 765, 667]\n",
        "all_list = ''\n",
        "stopwords = ['the', 'a', 'an', 'in', 'he', 'she', 'her', 'to', 'it', 'so', 'and', 'has', 'of',\n",
        "            'is', 'was', 'for', 'at', 'from', 'where', 'Her', 'She', 'as', 'when', 'on', 'with',\n",
        "             'by', 'also', 'In', 'that', 'have', 'been', 'how', 'their', 'one' ]\n",
        "\n",
        "# Getting the API and using json\n",
        "for id_number in abcd_id_list:\n",
        "  response = requests.get(f'https://abcd2.projectabcd.com/api/getinfo.php?id={id_number}', headers={\"User-Agent\": \"XY\"})\n",
        "  json_response = json.loads(response.text)\n",
        "\n",
        "  # print(type(json_response))\n",
        "  # print(json_response)\n",
        "  desc = json_response['data']['description']\n",
        "  dyk = json_response['data']['did_you_know']\n",
        "  total_text = desc + ' ' + dyk\n",
        "  # print('\\n', total_text)\n",
        "  # print(type(total_text))\n",
        "\n",
        "  all_list = all_list+total_text\n",
        "  #print('\\n', all_list)\n",
        "\n",
        "# Incrementing the values in count_dict based on their occurences\n",
        "count_dict = dict()\n",
        "tot_text = all_list.split()\n",
        "# print(tot_text)\n",
        "\n",
        "for word in tot_text:\n",
        "  if word not in stopwords:\n",
        "\n",
        "    if word in count_dict:\n",
        "      count_dict[word] += 1\n",
        "\n",
        "    else:\n",
        "      count_dict[word] = 1\n",
        "\n",
        "sorted_dict = dict(sorted(count_dict.items(), key=lambda item: -item[1]))\n",
        "# print(sorted_dict)\n",
        "\n",
        "# Getting the number of words to be printed from the user\n",
        "\n",
        "num_of_words = int(input('Please give the number of words you would like to see: '))\n",
        "output_dict = dict(list(sorted_dict.items())[0:num_of_words])\n",
        "print(str(output_dict))\n"
      ]
    }
  ]
}