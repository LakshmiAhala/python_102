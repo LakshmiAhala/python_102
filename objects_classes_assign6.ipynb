{
  "nbformat": 4,
  "nbformat_minor": 0,
  "metadata": {
    "colab": {
      "provenance": [],
      "authorship_tag": "ABX9TyPymVCkoL8OQkIyXkzkJGWF",
      "include_colab_link": true
    },
    "kernelspec": {
      "name": "python3",
      "display_name": "Python 3"
    },
    "language_info": {
      "name": "python"
    }
  },
  "cells": [
    {
      "cell_type": "markdown",
      "metadata": {
        "id": "view-in-github",
        "colab_type": "text"
      },
      "source": [
        "<a href=\"https://colab.research.google.com/github/LakshmiAhala/python_102/blob/main/objects_classes_assign6.ipynb\" target=\"_parent\"><img src=\"https://colab.research.google.com/assets/colab-badge.svg\" alt=\"Open In Colab\"/></a>"
      ]
    },
    {
      "cell_type": "code",
      "source": [
        "#@title Python Class Generator\n",
        "\n",
        "#Given a class name and its properties, can you write a python program to write python code for the class?\n",
        "\n",
        "#input_str = input('Enter your class details (ex:  Student [name, email, age]): ')\n",
        "input_str = 'Car [make, model, color]'\n",
        "#input_str = 'Student [name, email, age]'\n",
        "#input_str = 'Student [name, email, age, country]'\n",
        "#input_str = 'Student [name, email, age, country, language]'\n",
        "\n",
        "input_str_tokens = input_str.split()\n",
        "print(input_str_tokens)\n",
        "\n",
        "\n",
        "elem_list = []\n",
        "for elem in input_str_tokens:\n",
        "  elem = elem.replace('[', '')\n",
        "  elem = elem.replace(']', '')\n",
        "  elem = elem.replace(',', '')\n",
        "  #print(elem)\n",
        "  elem_list.append(elem)\n",
        "\n",
        "class_name = elem_list[0]\n",
        "property_list = elem_list[1:]\n",
        "\n",
        "print('Class Name: ', class_name)\n",
        "print('Property List: ', property_list)"
      ],
      "metadata": {
        "colab": {
          "base_uri": "https://localhost:8080/"
        },
        "id": "NY4PdbTPy6Xv",
        "outputId": "677e7692-220b-4365-b3ed-2bbeae5cf767"
      },
      "execution_count": null,
      "outputs": [
        {
          "output_type": "stream",
          "name": "stdout",
          "text": [
            "['Car', '[make,', 'model,', 'color]']\n",
            "Class Name:  Car\n",
            "Property List:  ['make', 'model', 'color']\n"
          ]
        }
      ]
    },
    {
      "cell_type": "code",
      "source": [
        "#@title Processing class_name and property_list\n",
        "\n",
        "    # def __init__(self, make, model, year):\n",
        "    #     self.make = make\n",
        "    #     self.model = model\n",
        "    #     self.year = year\n",
        "\n",
        "def get_init_code(property_list):  # I will do this now\n",
        "  init_code = \"\\n\\n# Defining the __init__ method\"\n",
        "  init_code += '\\n\\tdef __init__(self, '\n",
        "  for each_property in property_list:\n",
        "    init_code += each_property + ', '\n",
        "\n",
        "  # replace the last , with ):\n",
        "  init_code = init_code[0:-2]\n",
        "  init_code = init_code + \"):\"\n",
        "\n",
        "  for each_property in property_list:\n",
        "    init_code += f'\\n\\t\\tself.{each_property} = {each_property}'\n",
        "\n",
        "  init_code += '\\n'\n",
        "  return init_code\n",
        "\n",
        "def get_repr_code(class_name, property_list):  # Assignment 6 (1/3 of the class)\n",
        "  repr_code = '\\nrepr to be done'\n",
        "  # TBD\n",
        "  return repr_code\n",
        "\n",
        "def get_str_code(class_name, property_list):  # Assignment 6 (1/3 of the class)\n",
        "  str_code = '\\nstr to be done'\n",
        "  # TBD\n",
        "  return str_code\n",
        "\n",
        "def get_obj_creation_code(class_name, property_list):  # Assignment 6 (1/3 of the class)\n",
        "  obj_code = '\\nobj creation to be done'\n",
        "  # TBD\n",
        "  return obj_code\n",
        "\n",
        "def create_python_class(class_name, property_list):\n",
        "  python_code = f\"\"\"#@title {class_name} {property_list}\"\"\"\n",
        "  python_code +=  \"\\nclass \" + class_name + \":\"\n",
        "  python_code +=  get_init_code(property_list)\n",
        "  python_code +=  get_repr_code(class_name, property_list)\n",
        "  python_code +=  get_str_code(class_name, property_list)\n",
        "  return (python_code)\n",
        "\n",
        "#call the method\n",
        "final_python_code = create_python_class(class_name, property_list)\n",
        "\n",
        "\n",
        "# print the code to the console\n",
        "print(final_python_code)\n",
        "\n",
        "# write the code to a file\n",
        "output_file_name = class_name + \".py\"\n",
        "output_file_name = class_name + \".py\"\n",
        "output_file_obj = open(output_file_name, 'w')\n",
        "output_file_obj.write(final_python_code)\n",
        "output_file_obj.close()\n"
      ],
      "metadata": {
        "colab": {
          "base_uri": "https://localhost:8080/"
        },
        "id": "6fxLr7lMxw4y",
        "outputId": "7e345b95-fbdc-436c-b62a-8f191a63e8f1"
      },
      "execution_count": null,
      "outputs": [
        {
          "output_type": "stream",
          "name": "stdout",
          "text": [
            "#@title Car ['make', 'model', 'color']\n",
            "class Car:\n",
            "\n",
            "# Defining the __init__ method\n",
            "\tdef __init__(self, make, model, color):\n",
            "\t\tself.make = make\n",
            "\t\tself.model = model\n",
            "\t\tself.color = color\n",
            "\n",
            "repr to be done\n",
            "str to be done\n"
          ]
        }
      ]
    },
    {
      "cell_type": "code",
      "source": [
        "#@title Car (Anika) make, model, year\n",
        "class Car:\n",
        "\n",
        "    def __init__(self, a_make, a_model, a_year):\n",
        "        self.make = a_make\n",
        "        self.model = a_model\n",
        "        self.year = a_year\n",
        "\n",
        "    def __repr__(self):\n",
        "        temp_str = f'Student (name:{self.make}, model:{self.model}, year:{self.year})'\n",
        "        return temp_str\n",
        "\n",
        "    def __str__(self):\n",
        "        temp_str = ('\\nMake: ' + self.make +\n",
        "                    '\\nModel: ' + self.model +\n",
        "                    '\\nYear: ' + str(self.year))\n",
        "        return temp_str\n",
        "\n",
        "# Creating the car objects\n",
        "car_1 = Car('Toyota', 'Supra', 2002)\n",
        "print('\\n\\nRepresentation: ', repr(car_1))\n",
        "print('String representation: ', car_1)\n",
        "\n",
        "car_2 = Car('Ford', 'Mustang', 1989)\n",
        "print('\\n\\nRepresentation: ', repr(car_2))\n",
        "print('String representation: ', car_2)\n",
        "\n",
        "abc = Car('Volkswagen', 'Beetle', 1999)\n",
        "print('\\n\\nRepresentation: ', repr(abc))\n",
        "print('String representation: ', abc)"
      ],
      "metadata": {
        "id": "mT-18vdi5LkL",
        "outputId": "747e68a6-d606-43dc-bc1d-8d9a7d3622b1",
        "colab": {
          "base_uri": "https://localhost:8080/"
        }
      },
      "execution_count": null,
      "outputs": [
        {
          "output_type": "stream",
          "name": "stdout",
          "text": [
            "\n",
            "\n",
            "Representation:  Student (name:Toyota, model:Supra, year:2002)\n",
            "String representation:  \n",
            "Make: Toyota\n",
            "Model: Supra\n",
            "Year: 2002\n",
            "\n",
            "\n",
            "Representation:  Student (name:Ford, model:Mustang, year:1989)\n",
            "String representation:  \n",
            "Make: Ford\n",
            "Model: Mustang\n",
            "Year: 1989\n",
            "\n",
            "\n",
            "Representation:  Student (name:Volkswagen, model:Beetle, year:1999)\n",
            "String representation:  \n",
            "Make: Volkswagen\n",
            "Model: Beetle\n",
            "Year: 1999\n"
          ]
        }
      ]
    },
    {
      "cell_type": "code",
      "source": [
        "#@title get_str_code\n",
        "'''\n",
        "    def __str__(self):\n",
        "        temp_str = ('\\nMake: ' + self.make +\n",
        "                    '\\nModel: ' + self.model +\n",
        "                    '\\nYear: ' + str(self.year))\n",
        "        return temp_str\n",
        "'''\n",
        "# Defining the function get_str_code()\n",
        "def get_str_code(class_name, property_list):  # Assignment 6 (1/3 of the class)\n",
        "  str_code = \"\\n\\n# Defining the __str__ method\"\n",
        "  str_code += '\\n\\tdef __str__(self, '\n",
        "\n",
        "# replace the last , with ):\n",
        "  str_code = str_code[0:-2]\n",
        "  str_code = str_code + \"):\"\n",
        "  str_code += '\\n\\t\\ttemp_str = ('\n",
        "\n",
        "# Looping through property_list and printing str_code\n",
        "  for each_property in property_list:\n",
        "    first_letter = each_property[0]\n",
        "    first_letter = first_letter.upper()\n",
        "    property_display = first_letter + each_property[1:]\n",
        "    str_code += f\"\\n\\t\\t\\t\\\\n{property_display}: ' + self.{each_property} +\"\n",
        "  return str_code\n",
        "\n",
        "# Defining create_python_class()\n",
        "def create_python_class(class_name, property_list):\n",
        "  python_code = f\"\"\"#@title {class_name} {property_list}\"\"\"\n",
        "  python_code +=  \"\\nclass \" + class_name + \":\"\n",
        "  # python_code +=  get_init_code(property_list)\n",
        "  # python_code +=  get_repr_code(class_name, property_list)\n",
        "  python_code +=  get_str_code(class_name, property_list)\n",
        "  return (python_code)\n",
        "\n",
        "#call the method\n",
        "final_python_code = create_python_class(class_name, property_list)\n",
        "\n",
        "# print the code to the console\n",
        "print(final_python_code)\n",
        "\n",
        "# write the code to a file\n",
        "output_file_name = class_name + \".py\"\n",
        "output_file_name = class_name + \".py\"\n",
        "output_file_obj = open(output_file_name, 'w')\n",
        "output_file_obj.write(final_python_code)\n",
        "output_file_obj.close()"
      ],
      "metadata": {
        "colab": {
          "base_uri": "https://localhost:8080/"
        },
        "id": "pOn59te0Otkt",
        "outputId": "9e808cba-2214-4985-e4fa-2d812536a916"
      },
      "execution_count": null,
      "outputs": [
        {
          "output_type": "stream",
          "name": "stdout",
          "text": [
            "#@title Car ['make', 'model', 'color']\n",
            "class Car:\n",
            "\n",
            "# Defining the __str__ method\n",
            "\tdef __str__(self):\n",
            "\t\ttemp_str = (\n",
            "\t\t\t\\nMake: ' + self.make +\n",
            "\t\t\t\\nModel: ' + self.model +\n",
            "\t\t\t\\nColor: ' + self.color +\n"
          ]
        }
      ]
    }
  ]
}